{
 "cells": [
  {
   "cell_type": "markdown",
   "id": "1db9dbfa-6b03-48fa-b5bd-a032ef2ff0c3",
   "metadata": {},
   "source": [
    "# BASICS OF `PYTHON` PROGRAMMING\n",
    "\n",
    "In this notebook we will explain basic `Python` for Machine Learning."
   ]
  },
  {
   "cell_type": "markdown",
   "id": "f73191e1-7ace-463f-8680-8a5883721963",
   "metadata": {},
   "source": [
    "## Derived data types in `Python`"
   ]
  },
  {
   "cell_type": "markdown",
   "id": "632b6490-2caf-4597-a275-5d2ed059580d",
   "metadata": {},
   "source": [
    ">**NOTE:** In Python int,float,string... are atomic data types and no declaration is required.\n"
   ]
  },
  {
   "cell_type": "markdown",
   "id": "42719b43-d170-4427-ae45-e70a23b9b871",
   "metadata": {},
   "source": [
    "## LIST"
   ]
  },
  {
   "cell_type": "code",
   "execution_count": null,
   "id": "54ef474d-6284-47ef-812a-44ea17025536",
   "metadata": {},
   "outputs": [],
   "source": [
    "my_list=[1,2,3]"
   ]
  },
  {
   "cell_type": "code",
   "execution_count": 2,
   "id": "0c913c41-f577-45ec-8ab4-e83204c1ad37",
   "metadata": {},
   "outputs": [
    {
     "data": {
      "text/plain": [
       "[1, 2, 3]"
      ]
     },
     "execution_count": 2,
     "metadata": {},
     "output_type": "execute_result"
    }
   ],
   "source": [
    "my_list"
   ]
  },
  {
   "cell_type": "code",
   "execution_count": 3,
   "id": "0b3c1589-d3c9-4bf6-89b0-33e5b713feeb",
   "metadata": {},
   "outputs": [],
   "source": [
    "my_list=[1,'a',2,'b',3,'c']"
   ]
  },
  {
   "cell_type": "code",
   "execution_count": 4,
   "id": "0ef57003-f69d-4cc6-acbd-ca7f5e0294f8",
   "metadata": {},
   "outputs": [
    {
     "data": {
      "text/plain": [
       "[1, 'a', 2, 'b', 3, 'c']"
      ]
     },
     "execution_count": 4,
     "metadata": {},
     "output_type": "execute_result"
    }
   ],
   "source": [
    "my_list"
   ]
  },
  {
   "cell_type": "code",
   "execution_count": 5,
   "id": "30188dd5-570a-4b9a-a3f8-28dad62f7049",
   "metadata": {},
   "outputs": [
    {
     "data": {
      "text/plain": [
       "1"
      ]
     },
     "execution_count": 5,
     "metadata": {},
     "output_type": "execute_result"
    }
   ],
   "source": [
    "my_list[0]"
   ]
  },
  {
   "cell_type": "code",
   "execution_count": 6,
   "id": "fdd249df-ce50-4d0b-9b25-4fd9aae296ca",
   "metadata": {},
   "outputs": [],
   "source": [
    "my_list=[1,2,[100,200]]"
   ]
  },
  {
   "cell_type": "code",
   "execution_count": 7,
   "id": "51a803c5-a41d-4642-9131-3ebbad9671c0",
   "metadata": {},
   "outputs": [
    {
     "data": {
      "text/plain": [
       "[1, 2, [100, 200]]"
      ]
     },
     "execution_count": 7,
     "metadata": {},
     "output_type": "execute_result"
    }
   ],
   "source": [
    "my_list"
   ]
  },
  {
   "cell_type": "code",
   "execution_count": 8,
   "id": "08896cc6-bfc4-4f4f-a439-186dda581d3f",
   "metadata": {},
   "outputs": [
    {
     "data": {
      "text/plain": [
       "[100, 200]"
      ]
     },
     "execution_count": 8,
     "metadata": {},
     "output_type": "execute_result"
    }
   ],
   "source": [
    "my_list[2]"
   ]
  },
  {
   "cell_type": "code",
   "execution_count": 9,
   "id": "24615552-0507-4990-8bc7-391be83d6d45",
   "metadata": {},
   "outputs": [
    {
     "data": {
      "text/plain": [
       "200"
      ]
     },
     "execution_count": 9,
     "metadata": {},
     "output_type": "execute_result"
    }
   ],
   "source": [
    "my_list[2][1]"
   ]
  },
  {
   "cell_type": "code",
   "execution_count": 10,
   "id": "7cc003ec-58cc-4094-9b96-a503aa095dd0",
   "metadata": {},
   "outputs": [],
   "source": [
    "my_list=['a','b','c','d']"
   ]
  },
  {
   "cell_type": "code",
   "execution_count": 11,
   "id": "8f810497-917d-41dd-af5a-0549c96ffa54",
   "metadata": {},
   "outputs": [
    {
     "data": {
      "text/plain": [
       "['a']"
      ]
     },
     "execution_count": 11,
     "metadata": {},
     "output_type": "execute_result"
    }
   ],
   "source": [
    "my_list[:1]"
   ]
  },
  {
   "cell_type": "code",
   "execution_count": 12,
   "id": "b5879490-bd23-4d7d-86b1-dbed3923387c",
   "metadata": {},
   "outputs": [],
   "source": [
    "my_list[0]=\"new\""
   ]
  },
  {
   "cell_type": "code",
   "execution_count": 13,
   "id": "d3b7337f-8925-44f9-a7a6-c02a100a6a67",
   "metadata": {},
   "outputs": [
    {
     "data": {
      "text/plain": [
       "['new', 'b', 'c', 'd']"
      ]
     },
     "execution_count": 13,
     "metadata": {},
     "output_type": "execute_result"
    }
   ],
   "source": [
    "my_list"
   ]
  },
  {
   "cell_type": "code",
   "execution_count": 14,
   "id": "beaff465-b3f7-4b53-b902-4452628d5cec",
   "metadata": {},
   "outputs": [],
   "source": [
    "my_list.append('e')"
   ]
  },
  {
   "cell_type": "code",
   "execution_count": 15,
   "id": "05fd2caf-fcf2-426b-985c-b3b4834a9e03",
   "metadata": {},
   "outputs": [
    {
     "data": {
      "text/plain": [
       "['new', 'b', 'c', 'd', 'e']"
      ]
     },
     "execution_count": 15,
     "metadata": {},
     "output_type": "execute_result"
    }
   ],
   "source": [
    "my_list"
   ]
  },
  {
   "cell_type": "markdown",
   "id": "990ed487-ef97-4b6f-bbd1-a2af2d482b23",
   "metadata": {},
   "source": [
    "## TUPLE"
   ]
  },
  {
   "cell_type": "code",
   "execution_count": 16,
   "id": "185042c3-327b-4472-ae59-b6e93da7f5d2",
   "metadata": {},
   "outputs": [],
   "source": [
    "t=(1,2,3)"
   ]
  },
  {
   "cell_type": "code",
   "execution_count": 17,
   "id": "0fe67f10-9bd2-45c3-ae10-dfa900ced9f2",
   "metadata": {},
   "outputs": [
    {
     "data": {
      "text/plain": [
       "(1, 2, 3)"
      ]
     },
     "execution_count": 17,
     "metadata": {},
     "output_type": "execute_result"
    }
   ],
   "source": [
    "t"
   ]
  },
  {
   "cell_type": "code",
   "execution_count": 18,
   "id": "e5323244-9750-49dc-a4b2-c758a820a32f",
   "metadata": {},
   "outputs": [
    {
     "ename": "TypeError",
     "evalue": "'tuple' object does not support item assignment",
     "output_type": "error",
     "traceback": [
      "\u001b[0;31m---------------------------------------------------------------------------\u001b[0m",
      "\u001b[0;31mTypeError\u001b[0m                                 Traceback (most recent call last)",
      "Cell \u001b[0;32mIn[18], line 1\u001b[0m\n\u001b[0;32m----> 1\u001b[0m \u001b[43mt\u001b[49m\u001b[43m[\u001b[49m\u001b[38;5;241;43m0\u001b[39;49m\u001b[43m]\u001b[49m\u001b[38;5;241m=\u001b[39m\u001b[38;5;124m\"\u001b[39m\u001b[38;5;124mnew\u001b[39m\u001b[38;5;124m\"\u001b[39m\n",
      "\u001b[0;31mTypeError\u001b[0m: 'tuple' object does not support item assignment"
     ]
    }
   ],
   "source": [
    "t[0]=\"new\""
   ]
  },
  {
   "cell_type": "markdown",
   "id": "298a11a7-5ac4-4f1c-ad42-d1c94493d55b",
   "metadata": {},
   "source": [
    "## DICTIONARY"
   ]
  },
  {
   "cell_type": "code",
   "execution_count": 19,
   "id": "68ef931a-b64c-41ca-ba35-329a0bf31770",
   "metadata": {},
   "outputs": [],
   "source": [
    "d={'Name':'Akshara','age':20}"
   ]
  },
  {
   "cell_type": "code",
   "execution_count": 20,
   "id": "1a3c93a7-797b-48f6-aa35-592a3f88c851",
   "metadata": {},
   "outputs": [
    {
     "data": {
      "text/plain": [
       "{'Name': 'Akshara', 'age': 20}"
      ]
     },
     "execution_count": 20,
     "metadata": {},
     "output_type": "execute_result"
    }
   ],
   "source": [
    "d"
   ]
  },
  {
   "cell_type": "code",
   "execution_count": 21,
   "id": "a2496422-a58d-4c1b-8aaf-26b59b937806",
   "metadata": {},
   "outputs": [
    {
     "data": {
      "text/plain": [
       "20"
      ]
     },
     "execution_count": 21,
     "metadata": {},
     "output_type": "execute_result"
    }
   ],
   "source": [
    "d['age']"
   ]
  },
  {
   "cell_type": "code",
   "execution_count": 22,
   "id": "3a43d374-0500-405e-bd71-4d26336ce8f5",
   "metadata": {},
   "outputs": [
    {
     "data": {
      "text/plain": [
       "'Akshara'"
      ]
     },
     "execution_count": 22,
     "metadata": {},
     "output_type": "execute_result"
    }
   ],
   "source": [
    "d['Name']"
   ]
  },
  {
   "cell_type": "markdown",
   "id": "1fc7b9f9-80a8-48a9-8aa9-6a0272c4b077",
   "metadata": {},
   "source": [
    "## SET"
   ]
  },
  {
   "cell_type": "code",
   "execution_count": 23,
   "id": "69219f57-d8b9-497e-bc3d-71b341208d7d",
   "metadata": {},
   "outputs": [
    {
     "data": {
      "text/plain": [
       "{1, 2, 3, 4}"
      ]
     },
     "execution_count": 23,
     "metadata": {},
     "output_type": "execute_result"
    }
   ],
   "source": [
    "{1,2,3,4,1,2,3,4,1,2,3,4}"
   ]
  },
  {
   "cell_type": "markdown",
   "id": "34cd6ca4-16d8-420b-bca7-ed22473a699a",
   "metadata": {},
   "source": [
    "## FUNCTION CREATION"
   ]
  },
  {
   "cell_type": "code",
   "execution_count": 26,
   "id": "e21ce999-ac85-4029-ae57-a1c04ed7172e",
   "metadata": {},
   "outputs": [],
   "source": [
    "def time2(var):\n",
    "    return(var*2)"
   ]
  },
  {
   "cell_type": "code",
   "execution_count": null,
   "id": "bcb2c35b-ab99-4296-a58d-018a0ce67cf5",
   "metadata": {},
   "outputs": [],
   "source": []
  },
  {
   "cell_type": "code",
   "execution_count": 27,
   "id": "8c8bffe3-cbd4-4d98-8624-8b29d18dd1e1",
   "metadata": {},
   "outputs": [
    {
     "data": {
      "text/plain": [
       "18"
      ]
     },
     "execution_count": 27,
     "metadata": {},
     "output_type": "execute_result"
    }
   ],
   "source": [
    "time2(9)"
   ]
  },
  {
   "cell_type": "markdown",
   "id": "2f3d2b6a-8fca-4042-8cc7-a1f1ccf77a54",
   "metadata": {},
   "source": [
    "time2=lambda var:var*2"
   ]
  },
  {
   "cell_type": "code",
   "execution_count": 28,
   "id": "23bf84b2-475b-4ff6-9b52-a89a2ef9d76d",
   "metadata": {},
   "outputs": [
    {
     "name": "stdout",
     "output_type": "stream",
     "text": [
      "4\n"
     ]
    }
   ],
   "source": [
    "print(time2(2))"
   ]
  },
  {
   "cell_type": "code",
   "execution_count": 30,
   "id": "107865e8-9ee9-4c40-8ef7-39f2a6ffa65d",
   "metadata": {},
   "outputs": [],
   "source": [
    "x=[1,2,3,4]"
   ]
  },
  {
   "cell_type": "code",
   "execution_count": 34,
   "id": "31ad5123-3ee1-41b6-b2d7-ba401f33010f",
   "metadata": {},
   "outputs": [
    {
     "name": "stdout",
     "output_type": "stream",
     "text": [
      "[1, 4, 9, 16]\n"
     ]
    }
   ],
   "source": [
    "out=[]\n",
    "for item in x:\n",
    "    out.append(item**2)\n",
    "print(out)"
   ]
  },
  {
   "cell_type": "code",
   "execution_count": 35,
   "id": "515b7139-2a39-4110-bf26-532faedc8f68",
   "metadata": {},
   "outputs": [
    {
     "data": {
      "text/plain": [
       "[1, 4, 9, 16]"
      ]
     },
     "execution_count": 35,
     "metadata": {},
     "output_type": "execute_result"
    }
   ],
   "source": [
    "[item**2 for item in x]"
   ]
  },
  {
   "cell_type": "code",
   "execution_count": 38,
   "id": "0cbf1629-5a3c-4efb-b476-d1d909709d98",
   "metadata": {},
   "outputs": [
    {
     "name": "stdout",
     "output_type": "stream",
     "text": [
      "My name is:Akshara,My number is:10\n"
     ]
    }
   ],
   "source": [
    "print(\"My name is:{0},My number is:{1}\".format('Akshara',10))"
   ]
  },
  {
   "cell_type": "code",
   "execution_count": 39,
   "id": "00b1974e-becd-4c52-83b7-614c8a61c4e1",
   "metadata": {},
   "outputs": [],
   "source": [
    "num=12\n",
    "name='sam'"
   ]
  },
  {
   "cell_type": "code",
   "execution_count": 41,
   "id": "6c77a8a9-6403-44e7-96f5-0ccdda619045",
   "metadata": {},
   "outputs": [
    {
     "name": "stdout",
     "output_type": "stream",
     "text": [
      "My number is: 12,and my name is:sam\n"
     ]
    }
   ],
   "source": [
    "print('My number is: {one},and my name is:{two}'.format(one=num,two=name))"
   ]
  },
  {
   "cell_type": "code",
   "execution_count": null,
   "id": "3574b88d-5e68-4b50-91d5-91c5160df36e",
   "metadata": {},
   "outputs": [],
   "source": []
  }
 ],
 "metadata": {
  "kernelspec": {
   "display_name": "Python 3 (Intel® oneAPI 2023.2)",
   "language": "python",
   "name": "c009-intel_distribution_of_python_3_oneapi-beta05-python"
  },
  "language_info": {
   "codemirror_mode": {
    "name": "ipython",
    "version": 3
   },
   "file_extension": ".py",
   "mimetype": "text/x-python",
   "name": "python",
   "nbconvert_exporter": "python",
   "pygments_lexer": "ipython3",
   "version": "3.9.16"
  }
 },
 "nbformat": 4,
 "nbformat_minor": 5
}
